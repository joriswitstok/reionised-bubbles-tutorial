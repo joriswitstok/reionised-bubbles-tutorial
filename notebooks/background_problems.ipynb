{
 "cells": [
  {
   "cell_type": "markdown",
   "metadata": {},
   "source": [
    "# Reionised bubbles around primordial galaxies\n",
    "\n",
    "## Introduction\n",
    "\n",
    "This is the first ipython notebook to be followed alongside the background problems in the exercise sheet. The following code only serves as a starting point, feel free to adjust it as you see fit.\n",
    "\n",
    "### Software requirements\n",
    "\n",
    "### Option A: Setting up your own python environment\n",
    "\n",
    "I highly recommend using an [Anaconda environment](https://docs.conda.io/projects/conda/en/latest/user-guide/tasks/manage-environments.html) to manage your python installation. Having installed [Anaconda](https://docs.conda.io/projects/conda/en/latest/user-guide/install/index.html#), you can create a new environment from the command line by going into this repository's `auxiliary` directory and using the `bubble3.yml` file listing the necessary modules:\n",
    "```\n",
    "cd reionised-bubbles-tutorial/auxiliary\n",
    "conda env create -f bubble3.yml\n",
    "conda activate bubble3\n",
    "```\n",
    "Then, the following commands first confirm which `pip` installation manager is active, among which should be the one from your new Anaconda environment if it has been properly activated, and install the standalone `spectres` module (NB: you may have to change the directory depending on where `anaconda` is installed):\n",
    "```\n",
    "which pip3 # check which pip installation manager is active\n",
    "~/anaconda3/envs/bubble3/bin/pip3 install spectres # you may have to change the conda installation directory\n",
    "```\n",
    "Then, you can start up a Jupyter notebook instance with (again checking if it correctly uses your conda environment):\n",
    "```\n",
    "which jupyter\n",
    "jupyter notebook\n",
    "```\n",
    "\n",
    "### Option B: Installing requirements in a pre-existing python environment\n",
    "\n",
    "If you have an existing python environment you would like to use for running the Jupyter notebooks, you can install the necessary dependencies with the `pip` installation manager by going into this repository's `auxiliary` directory and using the `requirements.txt` file listing the required modules (including the standalone `spectres` module):\n",
    "```\n",
    "cd reionised-bubbles-tutorial/auxiliary\n",
    "which pip3 # check which pip installation manager is active\n",
    "pip3 install -r requirements.txt\n",
    "```"
   ]
  },
  {
   "cell_type": "code",
   "execution_count": null,
   "metadata": {},
   "outputs": [],
   "source": [
    "# Load necessary packages\n",
    "import numpy as np\n",
    "\n",
    "import matplotlib\n",
    "%matplotlib inline\n",
    "print(\"Matplotlib\", matplotlib.__version__, \"(backend: \" + matplotlib.get_backend() + ')')\n",
    "from matplotlib import pyplot as plt\n",
    "import seaborn as sns\n",
    "sns.set_style(\"ticks\")\n",
    "\n",
    "# Load matplotlib style file\n",
    "plt.style.use(\"../auxiliary/bubble.mplstyle\")\n",
    "\n",
    "pformat = \".png\"\n",
    "\n",
    "# Import astropy cosmology, given H0 and Omega_matter (Planck Collaboration 2020)\n",
    "from astropy.cosmology import FlatLambdaCDM\n",
    "cosmo = FlatLambdaCDM(H0=67.4, Om0=0.315, Ob0=0.02237/0.674**2, Tcmb0=2.726)\n",
    "\n",
    "# Physical constants and unit conversions\n",
    "from astropy.constants import h, c, sigma_sb, L_sun\n",
    "from astropy import units"
   ]
  },
  {
   "cell_type": "markdown",
   "metadata": {},
   "source": [
    "## Exercises: calculation templates"
   ]
  },
  {
   "cell_type": "code",
   "execution_count": null,
   "metadata": {},
   "outputs": [],
   "source": [
    "# Problem 1.1: Rydberg constant\n",
    "E_n = lambda n: -13.6/n**2 # energy of level n in eV\n",
    "R_H = (your_calculation_involving(E_n) * units.eV).to(\"1/Angstrom\").value # Rydberg constant in 1/Angstrom\n",
    "print(\"The Rydberg constant is R_H = {:.5f} Å^-1\".format(R_H))"
   ]
  },
  {
   "cell_type": "code",
   "execution_count": null,
   "metadata": {},
   "outputs": [],
   "source": [
    "# Problem 1.2a-b: wavelengths of Lyα, Hα, Paα and their redshift coverage by JWST/NIRSpec\n",
    "fig, ax = plt.subplots(figsize=(8.27/2, 8.27/2))\n",
    "z = np.linspace(0, 20, 100)\n",
    "\n",
    "wavelength_coverage_PRISM = [np.nan, np.nan]\n",
    "wavelength_coverage_G235M = [np.nan, np.nan]\n",
    "\n",
    "ax.fill_between(wavelength_coverage_PRISM, y1=0, y2=1, transform=ax.get_xaxis_transform(), edgecolor=\"None\", facecolor=\"grey\", alpha=0.2, label=\"PRISM coverage\")\n",
    "ax.fill_between(wavelength_coverage_G235M, y1=0, y2=1, transform=ax.get_xaxis_transform(), edgecolor=\"None\", facecolor=\"b\", alpha=0.2, label=\"G235M coverage\")\n",
    "\n",
    "line_labels = {\"Lyα\": r\"$\\mathrm{Ly\\alpha}$\", \"Hα\": r\"$\\mathrm{H\\alpha}$\", \"Paα\": r\"$\\mathrm{Pa\\alpha}$\"}\n",
    "print(\"The wavelengths of hydrogen electronic transitions:\")\n",
    "for i, line_label in enumerate(line_labels):\n",
    "    n = i + 1\n",
    "    wl = 1.0 / (R_H) * np.nan\n",
    "    print(\"{:d} -> {:d}: {:.2f} Å\".format(n+1, n, wl))\n",
    "    if n == 1: wl_Lya = wl\n",
    "    \n",
    "    ax.plot(z * wl * 1e-4, z, alpha=0.8, label=line_label)\n",
    "\n",
    "ax.set_xlabel(r\"Observed wavelength $\\lambda_\\mathrm{obs} \\, (\\mathrm{\\mu m})$\")\n",
    "ax.set_ylabel(r\"Redshift $z$\")\n",
    "\n",
    "ax.set_xlim(0.0, 8.5)\n",
    "ax.set_ylim(0, 20)\n",
    "\n",
    "ax.legend(frameon=False)\n",
    "\n",
    "plt.show()"
   ]
  },
  {
   "cell_type": "code",
   "execution_count": null,
   "metadata": {},
   "outputs": [],
   "source": [
    "# Problem 1.4a: Strömgren radius of H II region\n",
    "temperatures = np.arange(1e4, 4e4, 1e4) # electron temperatures in K\n",
    "dN_ion_dt = np.nan # ionizing photon rate in s^-1\n",
    "n_H = np.nan # hydrogen number density in cm^-3\n",
    "alpha_rec = lambda T: this_value_will_be_returned # recombination coefficient in cm^3 s^-1\n",
    "\n",
    "print(\"Strömgren radius around the star for a range of electron temperatures:\")\n",
    "for T in temperatures:\n",
    "    R_S = (np.nan).to(\"pc\").value # Strömgren radius in parsec\n",
    "    print(\"For T = {:.1f} x 10^4 K, R_S = {:.2f} parsec, so the cloud would be {} bounded\".format(T/1e4, R_S, \"density\" if 2*R_S > 4.0 else \"ionisation\"))"
   ]
  },
  {
   "cell_type": "code",
   "execution_count": null,
   "metadata": {},
   "outputs": [],
   "source": [
    "# Problem 1.4b: Lyα luminosity of H II region\n",
    "E_Lya = np.nan # Lyα photon energy in erg\n",
    "\n",
    "dNdt_Lya = np.nan * dN_ion_dt # Lyα emission rate in Hz\n",
    "L_Lya = combine(dNdt_Lya, E_Lya) # Lyα luminosity in erg/s\n",
    "logL_Lya = int(np.log10(L_Lya))\n",
    "\n",
    "T_star = np.nan # stellar temperature in K\n",
    "R_star = (np.nan * units.R_sun) # stellar radius in cm\n",
    "L_star = (sigma_sb * np.nan).to(\"erg/s\").value # stellar luminosity in erg/s\n",
    "\n",
    "print(\"The Lyα emission rate in the H II region is {:.2f} x 10^48 per second\".format(dNdt_Lya/1e48))\n",
    "print(\"This results in a luminosity of L_Lyα = {:.2f} x 10^{:d} erg/s or {:.2f} L_sun,\".format(L_Lya/10**logL_Lya, logL_Lya, L_Lya/L_sun.to(\"erg/s\").value))\n",
    "print(\"which is {:.1f}% of the luminosity of the central star (L_* = {:.2f} L_sun)\".format(L_Lya/L_star*100.0, L_star/L_sun.to(\"erg/s\").value))"
   ]
  },
  {
   "cell_type": "code",
   "execution_count": null,
   "metadata": {},
   "outputs": [],
   "source": [
    "# Problem 2.1a: cosmic expansion of an ionised bubble\n",
    "z = np.nan\n",
    "# Hint: use the astropy cosmology to calculate the Hubble parameter H and the age of the Universe at redshift z\n",
    "print(\"At z = {:.1f}, the e-folding time is {:.1f},\".format(z, some_function_involving(z)), end=' ')\n",
    "print(\"while the age of the Universe is {:.1f}\".format(get_age_of_Universe_at_redshift(z).to(\"Myr\")))"
   ]
  },
  {
   "cell_type": "code",
   "execution_count": null,
   "metadata": {},
   "outputs": [],
   "source": [
    "# Problem 2.1c: ionisations and recombinations inside an ionised bubble\n",
    "dN_ion_dt_Myr = (np.nan * units.the_right_units).to(\"1/Myr\").value # ionizing photon rate from ??? to 1/Myr\n",
    "f_escLyC = np.nan # escape fraction of Lyman-continuum photons\n",
    "n_H_0 = np.nan # hydrogen number density at z = 0 in cm^-3\n",
    "\n",
    "C_HII = np.nan # clumping factor\n",
    "alpha_rec_IGM = (alpha_rec(np.nan) * units.the_right_units).to(\"Mpc^3/Myr\").value # recombination rate in Mpc^3 Myr^-1\n",
    "\n",
    "fig, ax = plt.subplots(figsize=(8.27/2, 8.27/2))\n",
    "R_ion = np.linspace(0, 1, 100)\n",
    "\n",
    "colors1 = sns.color_palette(\"Set1\", 9)\n",
    "\n",
    "for z, c in zip([12, 7], colors1):\n",
    "    # Mean hydrogen number density at redshift z (converted to Mpc^-3)\n",
    "    n_H = scale_n_with_z(n_H_0).to(\"Mpc^-3\").value\n",
    "    ax.axhline(y=only_depends_on(n_H), linestyle='--', color=c, alpha=0.8, label=r\"Ionisation ($z = {:.0f}$)\".format(z))\n",
    "    ax.plot(R_ion, recombinations_are_a_function_of(R_ion), color=c, alpha=0.8, label=r\"Recombination ($z = {:.0f}$)\".format(z))\n",
    "\n",
    "ax.set_xlabel(r\"Ionised bubble radius $R_\\mathrm{ion} \\, (\\mathrm{pMpc})$\")\n",
    "ax.set_ylabel(r\"Ionised volume rate of change $dR_\\mathrm{ion}^3/dt \\, (\\mathrm{pMpc^3 \\, Myr^{-1}})$\")\n",
    "\n",
    "ax.set_xlim(0.0, 1.0)\n",
    "ax.set_ylim(4e-6, 0.02)\n",
    "\n",
    "ax.set_yscale(\"log\")\n",
    "\n",
    "ax.legend(frameon=False)\n",
    "\n",
    "plt.show()"
   ]
  }
 ],
 "metadata": {
  "kernelspec": {
   "display_name": "bubble3",
   "language": "python",
   "name": "python3"
  },
  "language_info": {
   "codemirror_mode": {
    "name": "ipython",
    "version": 3
   },
   "file_extension": ".py",
   "mimetype": "text/x-python",
   "name": "python",
   "nbconvert_exporter": "python",
   "pygments_lexer": "ipython3",
   "version": "3.11.11"
  }
 },
 "nbformat": 4,
 "nbformat_minor": 2
}
