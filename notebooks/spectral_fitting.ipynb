{
 "cells": [
  {
   "cell_type": "markdown",
   "metadata": {},
   "source": [
    "# Reionised bubbles around primordial galaxies\n",
    "\n",
    "## Introduction\n",
    "\n",
    "This is the second ipython notebook to be followed alongside the exercise sheet. Again, the following code only serves as a starting point, feel free to adjust it as you see fit. Software requirements are discussed in the first notebook."
   ]
  },
  {
   "cell_type": "code",
   "execution_count": null,
   "metadata": {},
   "outputs": [],
   "source": [
    "# Load necessary packages\n",
    "import os\n",
    "\n",
    "import numpy as np\n",
    "import math\n",
    "\n",
    "import lmfit\n",
    "from spectres import spectres\n",
    "\n",
    "import matplotlib\n",
    "%matplotlib inline\n",
    "print(\"Matplotlib\", matplotlib.__version__, \"(backend: \" + matplotlib.get_backend() + ')')\n",
    "from matplotlib import pyplot as plt\n",
    "import seaborn as sns\n",
    "sns.set_style(\"ticks\")\n",
    "\n",
    "# Load matplotlib style file\n",
    "plt.style.use(\"../auxiliary/bubble.mplstyle\")\n",
    "def_linewidth = plt.rcParams[\"lines.linewidth\"]\n",
    "def_markersize = plt.rcParams[\"lines.markersize\"]\n",
    "\n",
    "pformat = \".png\"\n",
    "dpi = 300\n",
    "\n",
    "# Import astropy cosmology, given H0 and Omega_matter (Planck Collaboration 2020)\n",
    "from astropy.cosmology import FlatLambdaCDM\n",
    "cosmo = FlatLambdaCDM(H0=67.4, Om0=0.315, Ob0=0.02237/0.674**2, Tcmb0=2.726)\n",
    "\n",
    "from astropy.io import fits\n",
    "from astroquery.mast import Observations"
   ]
  },
  {
   "cell_type": "markdown",
   "metadata": {},
   "source": [
    "## Gather spectroscopic data and measure the redshift and line fluxes\n",
    "\n",
    "First, we will define a function to download the data from MAST using `astroquery`."
   ]
  },
  {
   "cell_type": "code",
   "execution_count": null,
   "metadata": {},
   "outputs": [],
   "source": [
    "def download_data(obs_id, force_download=False):\n",
    "    if force_download or not os.path.isfile(\"../data/mastDownload/HLSP/{obs_id}/{obs_id}_x1d.fits\".format(obs_id=obs_id)):\n",
    "        obs_table = Observations.query_criteria(provenance_name=\"JADES\", instrument_name=\"NIRSPEC\", obs_id=obs_id)\n",
    "        data_products = Observations.get_product_list(obs_table)\n",
    "        Observations.download_products(data_products, download_dir=\"../data/\")\n",
    "    else:\n",
    "        print(\"Data products already downloaded.\")\n",
    "\n",
    "filter_gratings = [\"clear-prism\", \"f070lp-g140m\", \"f290lp-g395m\"]"
   ]
  },
  {
   "cell_type": "markdown",
   "metadata": {},
   "source": [
    "Next, we define a function to plot the spectra."
   ]
  },
  {
   "cell_type": "code",
   "execution_count": null,
   "metadata": {},
   "outputs": [],
   "source": [
    "# Lyα wavelength\n",
    "wl_Lya = np.nan # Angstrom\n",
    "# Convenient scaling factor for flux densities\n",
    "conv = 1e20\n",
    "\n",
    "colors1 = sns.color_palette(\"Set1\", 9)\n",
    "\n",
    "def plot_spectra(ID, wl_obs_dict, flux_dict, flux_err_dict, redshift=None, savefig=False):\n",
    "    fig = plt.figure(figsize=(8.27, 8.27/2))\n",
    "    gs = fig.add_gridspec(nrows=2, ncols=2, hspace=0.2, wspace=0.2, width_ratios=[1, 2])\n",
    "    axes = {}\n",
    "\n",
    "    # Create an (invisible) label axes spanning all subplots\n",
    "    axes[\"label\"] = fig.add_subplot(gs[:, :])\n",
    "    ax_r = axes[\"label\"].secondary_xaxis(\"top\")\n",
    "    for ax in [axes[\"label\"], ax_r]:\n",
    "        ax.tick_params(axis=\"both\", which=\"both\", bottom=False, top=False, left=False, right=False,\n",
    "                        labelbottom=False, labeltop=False, labelleft=False, labelright=False)\n",
    "        for spine in ax.spines.values():\n",
    "            spine.set_visible(False)\n",
    "\n",
    "    axes[\"label\"].set_xlabel(r\"Observed wavelength $\\lambda_\\mathrm{obs} \\, (\\mathrm{\\mu m})$\", labelpad=20)\n",
    "    axes[\"label\"].set_ylabel(r\"Flux density $F_\\lambda \\, (10^{{{:d}}} \\, \\mathrm{{erg \\, s^{{-1}} \\, cm^{{-2}} \\, \\AA^{{-1}}}})$\".format(int(-np.log10(conv))), labelpad=25)\n",
    "\n",
    "    axes[\"label\"].annotate(text=\"ID {}\".format(ID), xy=(0.5, 1), xytext=(0, 8),\n",
    "                            xycoords=\"axes fraction\", textcoords=\"offset points\", va=\"top\", ha=\"center\")\n",
    "\n",
    "    # Create different axes for each disperser\n",
    "    for fg, c in zip(filter_gratings, colors1):\n",
    "        rowi = 0 if fg == \"clear-prism\" else 1\n",
    "        coli = slice(None) if fg == \"clear-prism\" else list(filter_gratings).index(fg)-1\n",
    "        \n",
    "        axes[fg] = fig.add_subplot(gs[rowi, coli])\n",
    "\n",
    "        axes[fg].axhline(y=0, color='k', alpha=0.8)\n",
    "        axes[fg].annotate(text=fg, xy=(1, 1), xytext=(-8, -8), xycoords=\"axes fraction\", textcoords=\"offset points\",\n",
    "                            va=\"top\", ha=\"right\", color=c)\n",
    "\n",
    "        wl_obs = wl_obs_dict[fg]\n",
    "        flux = flux_dict[fg]\n",
    "        flux_err = flux_err_dict[fg]\n",
    "        \n",
    "        if redshift is not None:\n",
    "            obs_wl_Lya = wl_Lya / 1e4 * (1.0+redshift)\n",
    "            if obs_wl_Lya > np.min(wl_obs) and obs_wl_Lya < np.max(wl_obs):\n",
    "                axes[fg].axvline(obs_wl_Lya, 0, 0.9, linestyle='--', color='k', alpha=0.8)\n",
    "                axes[fg].annotate(text=\"Lyα\", xy=(obs_wl_Lya, 1), xytext=(0, -4),\n",
    "                                xycoords=axes[fg].get_xaxis_transform(), textcoords=\"offset points\",\n",
    "                                va=\"top\", ha=\"center\", size=\"small\")\n",
    "        \n",
    "        axes[fg].plot(wl_obs, flux*conv, drawstyle=\"steps-mid\", color=c, alpha=0.8, zorder=1)\n",
    "        axes[fg].fill_between(wl_obs, (flux-flux_err)*conv, (flux+flux_err)*conv, step=\"mid\",\n",
    "                            edgecolor=\"None\", facecolor=c, alpha=0.2, zorder=0.5)\n",
    "\n",
    "        if redshift is not None and fg == \"f070lp-g140m\":\n",
    "            axes[fg].set_xlim(0.98*obs_wl_Lya, 1.02*obs_wl_Lya)\n",
    "        else:\n",
    "            axes[fg].set_xlim(np.min(wl_obs), np.max(wl_obs))\n",
    "        axes[fg].set_ylim(1.25*np.nanmin(flux[wl_obs > 1.0]*conv), 1.25*np.nanmax(flux[wl_obs > 1.0]*conv))\n",
    "\n",
    "    if savefig:\n",
    "        fig.savefig(\"../plots/spectra_{}\".format(ID) + pformat, dpi=dpi, bbox_inches=\"tight\")\n",
    "    \n",
    "    return (fig, axes)"
   ]
  },
  {
   "cell_type": "markdown",
   "metadata": {},
   "source": [
    "## Measure redshift and line fluxes for ID 1899 in GOODS-N\n",
    "\n",
    "First, load in the data and plot the spectra."
   ]
  },
  {
   "cell_type": "code",
   "execution_count": null,
   "metadata": {},
   "outputs": [],
   "source": [
    "field = \"goods-n\"\n",
    "tier = \"mediumhst\"\n",
    "ID = 1899\n",
    "\n",
    "wl_obs_dict = {}\n",
    "flux_dict = {}\n",
    "flux_err_dict = {}\n",
    "\n",
    "for fg in filter_gratings:\n",
    "    print(\"Downloading {} spectrum of ID {} in {}...\".format(fg, ID, field))\n",
    "    obs_id = \"hlsp_jades_jwst_nirspec_{}-{}-{:08d}_{}_v1.0\".format(field, tier, ID, fg)\n",
    "    download_data(obs_id)\n",
    "    print(\"Done!\")\n",
    "\n",
    "    print(\"Reading in {} spectrum of ID {} in {}...\".format(fg, ID, field), end=' ')\n",
    "    with fits.open(\"../data/mastDownload/HLSP/{obs_id}/{obs_id}_x1d.fits\".format(obs_id=obs_id)) as hdulist_1D:\n",
    "        wl_obs_dict[fg] = hdulist_1D[\"EXTRACT1D\"].data[\"WAVELENGTH\"] # in μm\n",
    "        flux_dict[fg] = hdulist_1D[\"EXTRACT1D\"].data[\"FLUX\"] # in erg/s/cm^2/Å\n",
    "        flux_err_dict[fg] = hdulist_1D[\"EXTRACT1D\"].data[\"FLUX_ERR\"] # in erg/s/cm^2/Å\n",
    "    print(\"Done!\")\n",
    "\n",
    "fig = plot_spectra(ID, wl_obs_dict, flux_dict, flux_err_dict, savefig=True)[0]\n",
    "plt.show()\n",
    "plt.close(fig)"
   ]
  },
  {
   "cell_type": "markdown",
   "metadata": {},
   "source": [
    "Next, define a model of Gaussian emission line profiles."
   ]
  },
  {
   "cell_type": "code",
   "execution_count": null,
   "metadata": {},
   "outputs": [],
   "source": [
    "# FWHM of the line spread function, Δλ = λ/R, is ~2.35 times the dispersion σ\n",
    "FWHM_to_sigma = (2.0 * np.sqrt(2.0 * np.log(2.0)))\n",
    "\n",
    "def Gaussian(A, x0, y0, sigma, x):\n",
    "    # Gaussian profile with amplitude A, mean x0, variance sigma^2, and offset y0\n",
    "    return A / (np.sqrt(2*np.pi)*sigma) * np.exp( -(x-x0)**2 / (2.0*sigma**2) ) + y0\n",
    "\n",
    "def emission_line_model(params, x, data=None, data_err=None, line_dict={}, spectral_resolution=10000.0):\n",
    "    if isinstance(params, type(lmfit.Parameters())):\n",
    "        params = params.valuesdict()\n",
    "\n",
    "    # Start by calculating the required resolution of the model wavelength grid,\n",
    "    # which we want to properly sample the line spread function, requiring a\n",
    "    # step size of at least 3x the dispersion (σ)\n",
    "    dx_model = np.min(x) / spectral_resolution / FWHM_to_sigma / 3.0\n",
    "    # Initialise high-resolution model wavelength grid\n",
    "    x_model = np.arange(np.min(x)-10*dx_model, np.max(x)+10*dx_model, dx_model)\n",
    "    # Initialise a model flux-density array at constant continuum level\n",
    "    y_model = np.tile(float(params[\"cont\"]), x_model.shape)\n",
    "\n",
    "    for line, wl in line_dict.items():\n",
    "        # Observed (redshifted) wavelength of the line\n",
    "        wl_obs = do_something_with(wl, params['z'])\n",
    "        if \"deltav_{}\".format(line) in params:\n",
    "            # If a velocity offset is specified, shift the line centre\n",
    "            wl_obs /= do_something_else_with(params[\"deltav_{}\".format(line)])\n",
    "        \n",
    "        # Convert intrinsic velocity width to wavelength space\n",
    "        sigma_l = do_something_else_with(wl_obs, params[\"sigma_v\"])\n",
    "        # Convolve with a Gaussian line spread function (dispersion σ adds quadratically)\n",
    "        sigma_conv = do_something_else_with(sigma_l, wl_obs / spectral_resolution / FWHM_to_sigma)\n",
    "        # Add the line to the model spectrum\n",
    "        y_model += Gaussian(A=params[\"amplitude_{}\".format(line)], x0=wl_obs, y0=0, sigma=sigma_conv, x=x_model)\n",
    "\n",
    "    if data is None:\n",
    "        # Return the high-resolution model directly\n",
    "        return (x_model, y_model)\n",
    "    else:\n",
    "        # Rebin the high-resolution model to the observed data wavelength bins\n",
    "        model = spectres(x, x_model, y_model)\n",
    "        if data_err is None:\n",
    "            return model - data\n",
    "        else:\n",
    "            return (model-data) / data_err"
   ]
  },
  {
   "cell_type": "markdown",
   "metadata": {},
   "source": [
    "Set up the model to measure the redshift of ID 1899 with the rest-frame optical lines."
   ]
  },
  {
   "cell_type": "code",
   "execution_count": null,
   "metadata": {},
   "outputs": [],
   "source": [
    "# Verify the currently loaded data is still for ID 1899\n",
    "assert ID == 1899\n",
    "\n",
    "# Set up parameters, starting with redshift (z), continuum level (cont), and line width in velocity space (sigma_v)\n",
    "params = lmfit.Parameters()\n",
    "\n",
    "z_guess = np.nan\n",
    "z_min = np.nan\n",
    "z_max = np.nan\n",
    "\n",
    "#                NAME           VALUE           VARY        MIN     MAX         EXPR        BRUTE_STEP\n",
    "params.add_many(('z',           z_guess,        True,       z_min,  z_max,      None,       None),\n",
    "                (\"cont\",        0.0,            False,      None,   None,       None,       None),\n",
    "                (\"sigma_v\",     100.0,          True,       0,      500,        None,       None))\n",
    "\n",
    "# Conversion from μm to Å\n",
    "lconv = 1e4\n",
    "\n",
    "# Select finite subset of the G395M data to fit to\n",
    "wl_select = (wl_obs_dict[\"f290lp-g395m\"] > np.nan) * (wl_obs_dict[\"f290lp-g395m\"] < np.nan)\n",
    "x_fit = wl_obs_dict[\"f290lp-g395m\"][wl_select] * lconv # from μm to Å\n",
    "y_fit = flux_dict[\"f290lp-g395m\"][wl_select] * conv # in 1e-21 erg/s/cm^2/Å\n",
    "y_fit_err = selected_flux_errs_in_same_format_as_flux # in 1e-21 erg/s/cm^2/Å\n",
    "\n",
    "# Assume a constant spectral resolution of R = ...\n",
    "spectral_resolution = np.nan\n",
    "\n",
    "# Dictionary containing rest-frame wavelengths of lines to be fit\n",
    "line_dict = {\"Hbeta\": np.nan, \"OIII4960\": np.nan, \"OIII5008\": np.nan}\n",
    "\n",
    "# For each line, add amplitude parameter\n",
    "for line in line_dict:\n",
    "    expr = \"amplitude_OIII4960 * 2.98\" if line == \"OIII5008\" else None\n",
    "    params.add(\"amplitude_{}\".format(line), value=reasonable_initial_amplitude, vary=True, min=0, max=1e4, expr=expr)\n",
    "\n",
    "# Plot an example model\n",
    "fig, axes = plot_spectra(ID, wl_obs_dict, flux_dict, flux_err_dict, redshift=z_guess)\n",
    "\n",
    "text = \"Redshift guess: {:.3f}\".format(z_guess)\n",
    "text += \"\\nExpected precision: {:.5f}\".format(something_to_do_with(line_dict[\"OIII4960\"], z_guess, spectral_resolution, FWHM_to_sigma))\n",
    "print(text)\n",
    "axes[\"f290lp-g395m\"].annotate(text=text, xy=(0, 1), xytext=(8, -8),\n",
    "                              xycoords=\"axes fraction\", textcoords=\"offset points\", va=\"top\", ha=\"left\")\n",
    "# Using the initial (guessed) parameter values, get the high-resolution model\n",
    "x_model, y_model = emission_line_model(params.copy(), **some_other_parameters)\n",
    "axes[\"f290lp-g395m\"].plot(x_model/lconv, y_model, color='k', alpha=0.8)\n",
    "\n",
    "plt.show()\n",
    "plt.close(fig)"
   ]
  },
  {
   "cell_type": "markdown",
   "metadata": {},
   "source": [
    "Next, fit the model."
   ]
  },
  {
   "cell_type": "code",
   "execution_count": null,
   "metadata": {},
   "outputs": [],
   "source": [
    "# Verify the currently loaded data is still for ID 1899\n",
    "assert ID == 1899\n",
    "\n",
    "# Fit the model to the data\n",
    "fit_result = lmfit.minimize(emission_line_model, params, method=\"leastsq\",\n",
    "                            args=(x_fit,), kws=dict(data=y_fit, data_err=y_fit_err,\n",
    "                            line_dict=line_dict, spectral_resolution=spectral_resolution))\n",
    "print(fit_result.message)\n",
    "fit_result.params.pretty_print()\n",
    "print(lmfit.fit_report(fit_result))"
   ]
  },
  {
   "cell_type": "markdown",
   "metadata": {},
   "source": [
    "Having performed the fitting procedure, plot the results."
   ]
  },
  {
   "cell_type": "code",
   "execution_count": null,
   "metadata": {},
   "outputs": [],
   "source": [
    "# Verify the currently loaded data is still for ID 1899\n",
    "assert ID == 1899\n",
    "\n",
    "# Read in the best-fit redshift and its uncertainty\n",
    "fit_values = fit_result.params.valuesdict()\n",
    "z_fit = fit_values['z']\n",
    "z_fit_err = fit_result.params.get('z').stderr\n",
    "F_Hbeta_fit = resulting_Hbeta_amplitude\n",
    "F_Hbeta_fit_err = resulting_Hbeta_amplitude_err\n",
    "\n",
    "# Show the best-fit high-resolution model curve\n",
    "fig, axes = plot_spectra(ID, wl_obs_dict, flux_dict, flux_err_dict, redshift=z_fit)\n",
    "\n",
    "text = \"Measured redshift: {:.{prec}f} ± {:.{prec}f}\".format(z_fit, z_fit_err, prec=max(0, 2-math.floor(np.log10(z_fit_err))))\n",
    "print(text)\n",
    "axes[\"f290lp-g395m\"].annotate(text=text, xy=(0, 1), xytext=(8, -8), xycoords=\"axes fraction\", textcoords=\"offset points\",\n",
    "                                va=\"top\", ha=\"left\", size=\"small\")\n",
    "\n",
    "x_model, y_model = emission_line_model(fit_values, x=x_fit, line_dict=line_dict, spectral_resolution=spectral_resolution)\n",
    "axes[\"f290lp-g395m\"].plot(x_model/lconv, y_model, color='k', alpha=0.8)\n",
    "\n",
    "axes[\"f290lp-g395m\"].set_xlim(0.95*line_dict[\"OIII4960\"]*(1.0+z_fit)/lconv, 1.05*line_dict[\"OIII5008\"]*(1.0+z_fit)/lconv)\n",
    "\n",
    "plt.show()\n",
    "plt.close(fig)"
   ]
  },
  {
   "cell_type": "markdown",
   "metadata": {},
   "source": [
    "With a measured redshift, measure the flux of the Lyα line."
   ]
  },
  {
   "cell_type": "code",
   "execution_count": null,
   "metadata": {},
   "outputs": [],
   "source": [
    "# Verify the currently loaded data is still for ID 1899\n",
    "assert ID == 1899\n",
    "\n",
    "# Set up parameters, starting with redshift (z), continuum level (cont), and line width in velocity space (sigma_v)\n",
    "params = lmfit.Parameters()\n",
    "\n",
    "#                NAME           VALUE           VARY        MIN     MAX         EXPR        BRUTE_STEP\n",
    "params.add_many(('z',           z_fit,          False,      None,   None,       None,       None),\n",
    "                (\"cont\",        0.0,            False,      None,   None,       None,       None),\n",
    "                (\"sigma_v\",     100.0,          True,       0,      500,        None,       None))\n",
    "\n",
    "# Given the lower SNR in the G395M spectrum, this time we will fit to the\n",
    "# lower-resolution PRISM data – again select finite subset to fit to\n",
    "wl_select = (wl_obs_dict[\"f070lp-g140m\"] > np.nan) * (wl_obs_dict[\"f070lp-g140m\"] < np.nan)\n",
    "x_fit = wl_obs_dict[\"f070lp-g140m\"][wl_select] * lconv # from μm to Å\n",
    "y_fit = flux_dict[\"f070lp-g140m\"][wl_select] * conv # in 1e-21 erg/s/cm^2/Å\n",
    "y_fit_err = flux_err_dict[\"f070lp-g140m\"][wl_select] * conv # in 1e-21 erg/s/cm^2/Å\n",
    "\n",
    "# Assume a constant spectral resolution of R = ...\n",
    "spectral_resolution = np.nan\n",
    "\n",
    "# Dictionary containing rest-frame wavelengths of lines to be fit\n",
    "line_dict = {\"Lya\": wl_Lya}\n",
    "\n",
    "# Add amplitude parameter and velocity offset\n",
    "for line in line_dict:\n",
    "    params.add(\"amplitude_{}\".format(line), value=reasonable_initial_amplitude, vary=True, min=0, max=1e4)\n",
    "    params.add(\"deltav_{}\".format(line), value=reasonable_initial_velocity_offset, vary=True, min=0, max=300)\n",
    "\n",
    "# Plot an example model\n",
    "fig, axes = plot_spectra(ID, wl_obs_dict, flux_dict, flux_err_dict, redshift=z_fit)\n",
    "\n",
    "# Using the initial (guessed) parameter values, get the high-resolution model\n",
    "x_model, y_model = emission_line_model(params.copy(), **some_other_parameters)\n",
    "axes[\"f070lp-g140m\"].plot(x_model/lconv, y_model, color='k', alpha=0.8)\n",
    "\n",
    "plt.show()\n",
    "plt.close(fig)"
   ]
  },
  {
   "cell_type": "markdown",
   "metadata": {},
   "source": [
    "Next, fit the model."
   ]
  },
  {
   "cell_type": "code",
   "execution_count": null,
   "metadata": {},
   "outputs": [],
   "source": [
    "# Verify the currently loaded data is still for ID 10013682\n",
    "assert ID == 1899\n",
    "\n",
    "# Fit the model to the data\n",
    "fit_result = lmfit.minimize(emission_line_model, params, method=\"leastsq\",\n",
    "                            args=(x_fit,), kws=dict(data=y_fit, data_err=y_fit_err,\n",
    "                            line_dict=line_dict, spectral_resolution=spectral_resolution))\n",
    "print(fit_result.message)\n",
    "fit_result.params.pretty_print()\n",
    "print(lmfit.fit_report(fit_result))"
   ]
  },
  {
   "cell_type": "markdown",
   "metadata": {},
   "source": [
    "Having performed the fitting procedure, plot the results."
   ]
  },
  {
   "cell_type": "code",
   "execution_count": null,
   "metadata": {},
   "outputs": [],
   "source": [
    "# Verify the currently loaded data is still for ID 1899\n",
    "assert ID == 1899\n",
    "\n",
    "# Read in the best-fit redshift and its uncertainty\n",
    "fit_values = fit_result.params.valuesdict()\n",
    "F_Lya_fit = fit_values[\"amplitude_Lya\"]\n",
    "F_Lya_fit_err = fit_result.params.get(\"amplitude_Lya\").stderr\n",
    "deltav_Lya_fit = resulting_velocity_offset\n",
    "deltav_Lya_fit_err = resulting_velocity_offset_err\n",
    "\n",
    "Lya_Hbeta_ratio = F_Lya_fit / F_Hbeta_fit\n",
    "Lya_Hbeta_ratio_err = error_propagation_of(F_Lya_fit_err, F_Hbeta_fit_err)\n",
    "f_esc_Lya = convert(Lya_Hbeta_ratio)\n",
    "f_esc_Lya_err = convert(Lya_Hbeta_ratio_err)\n",
    "\n",
    "# Show the best-fit high-resolution model curve\n",
    "fig, axes = plot_spectra(ID, wl_obs_dict, flux_dict, flux_err_dict, redshift=z_fit)\n",
    "\n",
    "text = \"Lyα measurements\"\n",
    "text += \"\\nFlux: {:.{prec}f} ± {:.{prec}f} x 10^-20 erg/s/cm^2\".format(F_Lya_fit, F_Lya_fit_err, prec=max(0, 2-math.floor(np.log10(F_Lya_fit_err))))\n",
    "text += \"\\nΔv: {:.{prec}f} ± {:.{prec}f} km/s\".format(deltav_Lya_fit, deltav_Lya_fit_err, prec=max(0, 2-math.floor(np.log10(deltav_Lya_fit_err))))\n",
    "text += \"\\nFlux ratio with Hβ: {:.2f} ± {:.2f}\".format(Lya_Hbeta_ratio, Lya_Hbeta_ratio_err)\n",
    "text += \"\\nEscape fraction: {:.2f} ± {:.2f}\".format(f_esc_Lya, f_esc_Lya_err)\n",
    "print(text)\n",
    "axes[\"clear-prism\"].annotate(text=text, xy=(0.5, 1), xytext=(0, -8), xycoords=\"axes fraction\", textcoords=\"offset points\",\n",
    "                                va=\"top\", ha=\"center\", size=\"small\")\n",
    "\n",
    "x_model, y_model = emission_line_model(fit_values, x=x_fit, line_dict=line_dict, spectral_resolution=spectral_resolution)\n",
    "axes[\"f070lp-g140m\"].plot(x_model/lconv, y_model, color='k', alpha=0.8)\n",
    "\n",
    "plt.show()\n",
    "plt.close(fig)"
   ]
  },
  {
   "cell_type": "markdown",
   "metadata": {},
   "source": [
    "## Measure redshift and line fluxes for ID 10013682 in GOODS-S\n",
    "\n",
    "First, load in the data and plot the spectra."
   ]
  },
  {
   "cell_type": "code",
   "execution_count": null,
   "metadata": {},
   "outputs": [],
   "source": [
    "# Repeat the exercise for ID 10013682 in GOODS-S\n",
    "field = \"goods-s\"\n",
    "tier = \"deephst\"\n",
    "ID = 10013682\n",
    "\n",
    "wl_obs_dict = {}\n",
    "flux_dict = {}\n",
    "flux_err_dict = {}\n",
    "\n",
    "for fg in filter_gratings:\n",
    "    print(\"Downloading {} spectrum of ID {} in {}...\".format(fg, ID, field))\n",
    "    obs_id = \"hlsp_jades_jwst_nirspec_{}-{}-{:08d}_{}_v1.0\".format(field, tier, ID, fg)\n",
    "    download_data(obs_id)\n",
    "    print(\"Done!\")\n",
    "\n",
    "    print(\"Reading in {} spectrum of ID {} in {}...\".format(fg, ID, field), end=' ')\n",
    "    with fits.open(\"../data/mastDownload/HLSP/{obs_id}/{obs_id}_x1d.fits\".format(obs_id=obs_id)) as hdulist_1D:\n",
    "        wl_obs_dict[fg] = hdulist_1D[\"EXTRACT1D\"].data[\"WAVELENGTH\"] # in μm\n",
    "        flux_dict[fg] = hdulist_1D[\"EXTRACT1D\"].data[\"FLUX\"] # in erg/s/cm^2/Å\n",
    "        flux_err_dict[fg] = hdulist_1D[\"EXTRACT1D\"].data[\"FLUX_ERR\"] # in erg/s/cm^2/Å\n",
    "    print(\"Done!\")\n",
    "\n",
    "fig = plot_spectra(ID, wl_obs_dict, flux_dict, flux_err_dict, savefig=True)[0]\n",
    "plt.show()\n",
    "plt.close(fig)"
   ]
  },
  {
   "cell_type": "markdown",
   "metadata": {},
   "source": [
    "Set up the model to measure the redshift of ID 1899 with the rest-frame optical lines."
   ]
  },
  {
   "cell_type": "code",
   "execution_count": null,
   "metadata": {},
   "outputs": [],
   "source": [
    "# Verify the currently loaded data is still for ID 10013682\n",
    "assert ID == 10013682\n",
    "\n",
    "# Set up parameters, starting with redshift (z), continuum level (cont), and line width in velocity space (sigma_v)\n",
    "params = lmfit.Parameters()\n",
    "\n",
    "z_guess = np.nan\n",
    "z_min = np.nan\n",
    "z_max = np.nan\n",
    "\n",
    "#                NAME           VALUE           VARY        MIN     MAX         EXPR        BRUTE_STEP\n",
    "params.add_many(('z',           z_guess,        True,       z_min,  z_max,      None,       None),\n",
    "                (\"cont\",        0.0,            True,       0,      10,         None,       None),\n",
    "                (\"sigma_v\",     100.0,          True,       0,      500,        None,       None))\n",
    "\n",
    "# Given the lower SNR in the G395M spectrum, this time we will fit to the\n",
    "# lower-resolution PRISM data – again select finite subset to fit to\n",
    "wl_select = (wl_obs_dict[\"clear-prism\"] > np.nan) * (wl_obs_dict[\"clear-prism\"] < 4.3)\n",
    "selected_x_fit_as_before # in 1e-21 erg/s/cm^2/Å\n",
    "selected_y_fit_as_before # in 1e-21 erg/s/cm^2/Å\n",
    "selected_y_fit_err_as_before # in 1e-21 erg/s/cm^2/Å\n",
    "\n",
    "# Assume a constant spectral resolution of R = ...\n",
    "spectral_resolution = np.nan\n",
    "\n",
    "# Dictionary containing rest-frame wavelengths of lines to be fit\n",
    "line_dict = dict_as_before\n",
    "\n",
    "# For each line, add amplitude parameter\n",
    "for line in line_dict:\n",
    "    expr = \"amplitude_OIII4960 * 2.98\" if line == \"OIII5008\" else None\n",
    "    params.add(\"amplitude_{}\".format(line), value=reasonable_initial_amplitude, vary=True, min=0, max=1e4, expr=expr)\n",
    "\n",
    "# Plot an example model\n",
    "plot_spectra_and_model_as_before()\n",
    "\n",
    "plt.show()\n",
    "plt.close(fig)"
   ]
  },
  {
   "cell_type": "markdown",
   "metadata": {},
   "source": [
    "Next, fit the model."
   ]
  },
  {
   "cell_type": "code",
   "execution_count": null,
   "metadata": {},
   "outputs": [],
   "source": [
    "# Verify the currently loaded data is still for ID 10013682\n",
    "assert ID == 10013682\n",
    "\n",
    "# Fit the model to the data\n",
    "fit_result = lmfit.minimize(emission_line_model, params, method=\"leastsq\",\n",
    "                            args=(x_fit,), kws=dict(data=y_fit, data_err=y_fit_err,\n",
    "                            line_dict=line_dict, spectral_resolution=spectral_resolution))\n",
    "print(fit_result.message)\n",
    "fit_result.params.pretty_print()\n",
    "print(lmfit.fit_report(fit_result))"
   ]
  },
  {
   "cell_type": "markdown",
   "metadata": {},
   "source": [
    "Having performed the fitting procedure, plot the results."
   ]
  },
  {
   "cell_type": "code",
   "execution_count": null,
   "metadata": {},
   "outputs": [],
   "source": [
    "# Verify the currently loaded data is still for ID 10013682\n",
    "assert ID == 10013682\n",
    "\n",
    "# Read in the best-fit redshift and its uncertainty\n",
    "work_out_fit_values_as_before()\n",
    "\n",
    "# Show the best-fit high-resolution model curve\n",
    "plot_spectra_and_best_fit_model_as_before()\n",
    "\n",
    "plt.show()\n",
    "plt.close(fig)"
   ]
  },
  {
   "cell_type": "markdown",
   "metadata": {},
   "source": [
    "With a measured redshift, measure the flux of the Lyα line."
   ]
  },
  {
   "cell_type": "code",
   "execution_count": null,
   "metadata": {},
   "outputs": [],
   "source": [
    "# Verify the currently loaded data is still for ID 10013682\n",
    "assert ID == 10013682\n",
    "\n",
    "# Set up parameters, starting with redshift (z), continuum level (cont), and line width in velocity space (sigma_v)\n",
    "set_up_lmfit_as_before()\n",
    "\n",
    "# Plot an example model\n",
    "plot_spectra_and_model_as_before()\n",
    "\n",
    "plt.show()\n",
    "plt.close(fig)"
   ]
  },
  {
   "cell_type": "markdown",
   "metadata": {},
   "source": [
    "Next, fit the model."
   ]
  },
  {
   "cell_type": "code",
   "execution_count": null,
   "metadata": {},
   "outputs": [],
   "source": [
    "# Verify the currently loaded data is still for ID 10013682\n",
    "assert ID == 10013682\n",
    "\n",
    "# Fit the model to the data\n",
    "fit_result = lmfit.minimize(emission_line_model, params, method=\"leastsq\",\n",
    "                            args=(x_fit,), kws=dict(data=y_fit, data_err=y_fit_err,\n",
    "                            line_dict=line_dict, spectral_resolution=spectral_resolution))\n",
    "print(fit_result.message)\n",
    "fit_result.params.pretty_print()\n",
    "print(lmfit.fit_report(fit_result))"
   ]
  },
  {
   "cell_type": "markdown",
   "metadata": {},
   "source": [
    "Having performed the fitting procedure, plot the results."
   ]
  },
  {
   "cell_type": "code",
   "execution_count": null,
   "metadata": {},
   "outputs": [],
   "source": [
    "# Verify the currently loaded data is still for ID 10013682\n",
    "assert ID == 10013682\n",
    "\n",
    "# Read in the best-fit redshift and its uncertainty\n",
    "work_out_fit_values_and_f_esc_Lya_as_before()\n",
    "\n",
    "# Show the best-fit high-resolution model curve\n",
    "plot_spectra_and_best_fit_model_as_before()"
   ]
  }
 ],
 "metadata": {
  "kernelspec": {
   "display_name": "bubble3",
   "language": "python",
   "name": "python3"
  },
  "language_info": {
   "codemirror_mode": {
    "name": "ipython",
    "version": 3
   },
   "file_extension": ".py",
   "mimetype": "text/x-python",
   "name": "python",
   "nbconvert_exporter": "python",
   "pygments_lexer": "ipython3",
   "version": "3.11.11"
  }
 },
 "nbformat": 4,
 "nbformat_minor": 2
}
